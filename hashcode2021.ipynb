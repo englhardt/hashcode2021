{
 "cells": [
  {
   "cell_type": "code",
   "execution_count": 1,
   "metadata": {},
   "outputs": [],
   "source": [
    "import os\n",
    "import itertools\n",
    "import multiprocessing\n",
    "from collections import namedtuple\n",
    "from operator import itemgetter\n",
    "from tqdm import tqdm\n",
    "from shutil import copyfile\n",
    "from datetime import datetime\n",
    "import pickle\n",
    "import random\n",
    "import operator\n",
    "from IPython.display import Javascript\n",
    "from collections import Counter, defaultdict\n",
    "import math\n",
    "import pandas as pd\n",
    "from copy import deepcopy\n",
    "\n",
    "save = '''\n",
    "require([\"base/js/namespace\"],function(Jupyter) {\n",
    "    Jupyter.notebook.save_checkpoint();\n",
    "});\n",
    "'''"
   ]
  },
  {
   "cell_type": "code",
   "execution_count": 2,
   "metadata": {},
   "outputs": [],
   "source": [
    "INPUT_PATH = \"data\"\n",
    "ROOT_OUTPUT_PATH = \"solutions\"\n",
    "OUTPUT_PATH = os.path.join(ROOT_OUTPUT_PATH, \"test\")\n",
    "NB_NAME = 'hashcode2021.ipynb'\n",
    "SOLUTION_NAMES = nouns = ['people','history','way','art','world','information','map','two','family','government','health','system','computer','meat','year','thanks','music','person','reading','method','data','food','understanding','theory','law','bird','literature','problem','software','control','knowledge','power','ability','economics','love','internet','television','science','library','nature','fact','product','idea','temperature','investment','area','society','activity','story','industry','media','thing','oven','community','definition','safety','quality','development','language','management','player','variety','video','week','security','country','exam','movie','organization','equipment','physics','analysis','policy','series','thought','basis','boyfriend','direction','strategy','technology','army','camera','freedom','paper','environment','child','instance','month','truth','marketing','university','writing','article','department','difference','goal','news','audience','fishing','growth','income','marriage','user','combination','failure','meaning','medicine','philosophy','teacher','communication','night','chemistry','disease','disk','energy','nation','road','role','soup','advertising','location','success','addition','apartment','education','math','moment','painting','politics','attention','decision','event','property','shopping','student','wood','competition','distribution','entertainment','office','population','president','unit','category','cigarette','context','introduction','opportunity','performance','driver','flight','length','magazine','newspaper','relationship','teaching','cell','dealer','debate','finding','lake','member','message','phone','scene','appearance','association','concept','customer','death','discussion','housing','inflation','insurance','mood','woman','advice','blood','effort','expression','importance','opinion','payment','reality','responsibility','situation','skill','statement','wealth','application','city','county','depth','estate','foundation','grandmother','heart','perspective','photo','recipe','studio','topic','collection','depression','imagination','passion','percentage','resource','setting','ad','agency','college','connection','criticism','debt','description','memory','patience','secretary','solution','administration','aspect','attitude','director','personality','psychology','recommendation','response','selection','storage','version','alcohol','argument','complaint','contract','emphasis','highway','loss','membership','possession','preparation','steak','union','agreement','cancer','currency','employment','engineering','entry','interaction','limit','mixture','preference','region','republic','seat','tradition','virus','actor','classroom','delivery','device','difficulty','drama','election','engine','football','guidance','hotel','match','owner','priority','protection','suggestion','tension','variation','anxiety','atmosphere','awareness','bread','climate','comparison','confusion','construction','elevator','emotion','employee','employer','guest','height','leadership','mall','manager','operation','recording','respect','sample','transportation','boring','charity','cousin','disaster','editor','efficiency','excitement','extent','feedback','guitar','homework','leader','mom','outcome','permission','presentation','promotion','reflection','refrigerator','resolution','revenue','session','singer','tennis','basket','bonus','cabinet','childhood','church','clothes','coffee','dinner','drawing','hair','hearing','initiative','judgment','lab','measurement','mode','mud','orange','poetry','police','possibility','procedure','queen','ratio','relation','restaurant','satisfaction','sector','signature','significance','song','tooth','town','vehicle','volume','wife','accident','airport','appointment','arrival','assumption','baseball','chapter','committee','conversation','database','enthusiasm','error','explanation','farmer','gate','girl','hall','historian','hospital','injury','instruction','maintenance','manufacturer','meal','perception','pie','poem','presence','proposal','reception','replacement','revolution','river','son','speech','tea','village','warning','winner','worker','writer','assistance','breath','buyer','chest','chocolate','conclusion','contribution','cookie','courage','dad','desk','drawer','establishment','examination','garbage','grocery','honey','impression','improvement','independence','insect','inspection','inspector','king','ladder','menu','penalty','piano','potato','profession','professor','quantity','reaction','requirement','salad','sister','supermarket','tongue','weakness','wedding','affair','ambition','analyst','apple','assignment','assistant','bathroom','bedroom','beer','birthday','celebration','championship','cheek','client','consequence','departure','diamond','dirt','ear','fortune','friendship','funeral','gene','girlfriend','hat','indication','intention','lady','midnight','negotiation','obligation','passenger','pizza','platform','poet','pollution','recognition','reputation','shirt','sir','speaker','stranger','surgery','sympathy','tale','throat','trainer','uncle','youth','time','work','film','water','money','example','while','business','study','game','life','form','air','day','place','number','part','field','fish','back','process','heat','hand','experience','job','book','end','point','type','home','economy','value','body','market','guide','interest','state','radio','course','company','price','size','card','list','mind','trade','line','care','group','risk','word','fat','force','key','light','training','name','school','top','amount','level','order','practice','research','sense','service','piece','web','boss','sport','fun','house','page','term','test','answer','sound','focus','matter','kind','soil','board','oil','picture','access','garden','range','rate','reason','future','site','demand','exercise','image','case','cause','coast','action','age','bad','boat','record','result','section','building','mouse','cash','class','nothing','period','plan','store','tax','side','subject','space','rule','stock','weather','chance','figure','man','model','source','beginning','earth','program','chicken','design','feature','head','material','purpose','question','rock','salt','act','birth','car','dog','object','scale','sun','note','profit','rent','speed','style','war','bank','craft','half','inside','outside','standard','bus','exchange','eye','fire','position','pressure','stress','advantage','benefit','box','frame','issue','step','cycle','face','item','metal','paint','review','room','screen','structure','view','account','ball','discipline','medium','share','balance','bit','black','bottom','choice','gift','impact','machine','shape','tool','wind','address','average','career','culture','morning','pot','sign','table','task','condition','contact','credit','egg','hope','ice','network','north','square','attempt','date','effect','link','post','star','voice','capital','challenge','friend','self','shot','brush','couple','exit','front','function','lack','living','plant','plastic','spot','summer','taste','theme','track','wing','brain','button','click','desire','foot','gas','influence','notice','rain','wall','base','damage','distance','feeling','pair','savings','staff','sugar','target','text','animal','author','budget','discount','file','ground','lesson','minute','officer','phase','reference','register','sky','stage','stick','title','trouble','bowl','bridge','campaign','character','club','edge','evidence','fan','letter','lock','maximum','novel','option','pack','park','plenty','quarter','skin','sort','weight','baby','background','carry','dish','factor','fruit','glass','joint','master','muscle','red','strength','traffic','trip','vegetable','appeal','chart','gear','ideal','kitchen','land','log','mother','net','party','principle','relative','sale','season','signal','spirit','street','tree','wave','belt','bench','commission','copy','drop','minimum','path','progress','project','sea','south','status','stuff','ticket','tour','angle','blue','breakfast','confidence','daughter','degree','doctor','dot','dream','duty','essay','father','fee','finance','hour','juice','luck','milk','mouth','peace','pipe','stable','storm','substance','team','trick','afternoon','bat','beach','blank','catch','chain','consideration','cream','crew','detail','gold','interview','kid','mark','mission','pain','pleasure','score','screw','sex','shop','shower','suit','tone','window','agent','band','bath','block','bone','calendar','candidate','cap','coat','contest','corner','court','cup','district','door','east','finger','garage','guarantee','hole','hook','implement','layer','lecture','lie','manner','meeting','nose','parking','partner','profile','rice','routine','schedule','swimming','telephone','tip','winter','airline','bag','battle','bed','bill','bother','cake','code','curve','designer','dimension','dress','ease','emergency','evening','extension','farm','fight','gap','grade','holiday','horror','horse','host','husband','loan','mistake','mountain','nail','noise','occasion','package','patient','pause','phrase','proof','race','relief','sand','sentence','shoulder','smoke','stomach','string','tourist','towel','vacation','west','wheel','wine','arm','aside','associate','bet','blow','border','branch','breast','brother','buddy','bunch','chip','coach','cross','document','draft','dust','expert','floor','god','golf','habit','iron','judge','knife','landscape','league','mail','mess','native','opening','parent','pattern','pin','pool','pound','request','salary','shame','shelter','shoe','silver','tackle','tank','trust','assist','bake','bar','bell','bike','blame','boy','brick','chair','closet','clue','collar','comment','conference','devil','diet','fear','fuel','glove','jacket','lunch','monitor','mortgage','nurse','pace','panic','peak','plane','reward','row','sandwich','shock','spite','spray','surprise','till','transition','weekend','welcome','yard','alarm','bend','bicycle','bite','blind','bottle','cable','candle','clerk','cloud','concert','counter','flower','grandfather','harm','knee','lawyer','leather','load','mirror','neck','pension','plate','purple','ruin','ship','skirt','slice','snow','specialist','stroke','switch','trash','tune','zone','anger','award','bid','bitter','boot','bug','camp','candy','carpet','cat','champion','channel','clock','comfort','cow','crack','engineer','entrance','fault','grass','guy','hell','highlight','incident','island','joke','jury','leg','lip','mate','motor','nerve','passage','pen','pride','priest','prize','promise','resident','resort','ring','roof','rope','sail','scheme','script','sock','station','toe','tower','truck','witness','a','you','it','can','will','if','one','many','most','other','use','make','good','look','help','go','great','being','few','might','still','public','read','keep','start','give','human','local','general','she','specific','long','play','feel','high','tonight','put','common','set','change','simple','past','big','possible','particular','today','major','personal','current','national','cut','natural','physical','show','try','check','second','call','move','pay','let','increase','single','individual','turn','ask','buy','guard','hold','main','offer','potential','professional','international','travel','cook','alternative','following','special','working','whole','dance','excuse','cold','commercial','low','purchase','deal','primary','worth','fall','necessary','positive','produce','search','present','spend','talk','creative','tell','cost','drive','green','support','glad','remove','return','run','complex','due','effective','middle','regular','reserve','independent','leave','original','reach','rest','serve','watch','beautiful','charge','active','break','negative','safe','stay','visit','visual','affect','cover','report','rise','walk','white','beyond','junior','pick','unique','anything','classic','final','lift','mix','private','stop','teach','western','concern','familiar','fly','official','broad','comfortable','gain','maybe','rich','save','stand','young','heavy','hello','lead','listen','valuable','worry','handle','leading','meet','release','sell','finish','normal','press','ride','secret','spread','spring','tough','wait','brown','deep','display','flow','hit','objective','shoot','touch','cancel','chemical','cry','dump','extreme','push','conflict','eat','fill','formal','jump','kick','opposite','pass','pitch','remote','total','treat','vast','abuse','beat','burn','deposit','print','raise','sleep','somewhere','advance','anywhere','consist','dark','double','draw','equal','fix','hire','internal','join','kill','sensitive','tap','win','attack','claim','constant','drag','drink','guess','minor','pull','raw','soft','solid','wear','weird','wonder','annual','count','dead','doubt','feed','forever','impress','nobody','repeat','round','sing','slide','strip','whereas','wish','combine','command','dig','divide','equivalent','hang','hunt','initial','march','mention','spiritual','survey','tie','adult','brief','crazy','escape','gather','hate','prior','repair','rough','sad','scratch','sick','strike','employ','external','hurt','illegal','laugh','lay','mobile','nasty','ordinary','respond','royal','senior','split','strain','struggle','swim','train','upper','wash','yellow','convert','crash','dependent','fold','funny','grab','hide','miss','permit','quote','recover','resolve','roll','sink','slip','spare','suspect','sweet','swing','twist','upstairs','usual','abroad','brave','calm','concentrate','estimate','grand','male','mine','prompt','quiet','refuse','regret','reveal','rush','shake','shift','shine','steal','suck','surround','anybody','bear','brilliant','dare','dear','delay','drunk','female','hurry','inevitable','invite','kiss','neat','pop','punch','quit','reply','representative','resist','rip','rub','silly','smile','spell','stretch','stupid','tear','temporary','tomorrow','wake','wrap','yesterday']\n",
    "global INPUT_PATH, ROOT_OUTPUT_PATH, OUTPUT_PATH, NB_NAME"
   ]
  },
  {
   "cell_type": "markdown",
   "metadata": {},
   "source": [
    "Solution runner and writer."
   ]
  },
  {
   "cell_type": "code",
   "execution_count": 3,
   "metadata": {},
   "outputs": [],
   "source": [
    "def mk_output_dir():\n",
    "    now = datetime.now()\n",
    "    current_time = now.strftime(\"%H%M%S\")\n",
    "    simple_name = SOLUTION_NAMES[len(os.listdir(ROOT_OUTPUT_PATH))]\n",
    "    OUTPUT_PATH = os.path.join(ROOT_OUTPUT_PATH, f\"{current_time}_{simple_name}_{abs(hash(datetime.now()))})\")\n",
    "    os.makedirs(OUTPUT_PATH, exist_ok=True)\n",
    "    return OUTPUT_PATH\n",
    "\n",
    "def write_bresult(s):\n",
    "    with open(os.path.join(OUTPUT_PATH, \"res.pkl\"), \"wb\") as f:\n",
    "        pickle.dump(s, f)\n",
    "\n",
    "def load_bresult(s):\n",
    "    with open(os.path.join(ROOT_OUTPUT_PATH, s, \"res.pkl\"), \"rb\") as f:\n",
    "        return pickle.load(f)\n",
    "\n",
    "def run(i):\n",
    "    parsed_input = parse_input(os.path.join(INPUT_PATH, i))\n",
    "    s = compute(parsed_input)\n",
    "    v = score(parsed_input, s)\n",
    "    print(f\"%s: \\t\\t{v:,}\" % (i.split(\"_\")[0]))\n",
    "    with open(os.path.join(OUTPUT_PATH, f\"{i}_result\"), \"w\") as f:\n",
    "        f.writelines(map(lambda x: f\"{x}\\n\", format_output(s)))\n",
    "    return s, v\n",
    "\n",
    "def new_sol(x=None):\n",
    "    global OUTPUT_PATH\n",
    "    OUTPUT_PATH = mk_output_dir()\n",
    "    files = sorted([x for x in os.listdir(INPUT_PATH) if not x.startswith(\".\")])\n",
    "    if x is not None:\n",
    "        files = [f for f in files if f.startswith(x)]\n",
    "    print(files)\n",
    "    pool = multiprocessing.Pool(processes=len(files))\n",
    "    res = pool.map(run, files)\n",
    "    s, scores = list(map(itemgetter(0), res)), list(map(itemgetter(1), res))\n",
    "    print(f\"------------------------------------\")\n",
    "    print(f\"Total: \\t\\t{sum(scores):,}\")\n",
    "    pool.close()\n",
    "    write_bresult(s)\n",
    "    Javascript(save)\n",
    "    copyfile(os.path.join(os.getcwd(), NB_NAME), os.path.join(OUTPUT_PATH, NB_NAME))\n",
    "    return s"
   ]
  },
  {
   "cell_type": "markdown",
   "metadata": {},
   "source": [
    "---"
   ]
  },
  {
   "cell_type": "markdown",
   "metadata": {},
   "source": [
    "Data structures"
   ]
  },
  {
   "cell_type": "code",
   "execution_count": 4,
   "metadata": {},
   "outputs": [],
   "source": [
    "Meta = namedtuple('Meta', 'file_name duration num_inters num_streets num_cars bonus')\n",
    "Street = namedtuple('Street', 'name length b e')\n",
    "Car = namedtuple('Car', 'num_streets streets')\n",
    "StreetSchedule = namedtuple('StreetSchedule', 'name t')\n",
    "Schedule = namedtuple('Schedule', 'id num_streets street_schedules')"
   ]
  },
  {
   "cell_type": "markdown",
   "metadata": {},
   "source": [
    "Input parsing and output formatting (not writing)"
   ]
  },
  {
   "cell_type": "code",
   "execution_count": 5,
   "metadata": {},
   "outputs": [],
   "source": [
    "def parse_input(fname):\n",
    "    with open(fname) as f:\n",
    "        data = f.read().splitlines()\n",
    "        vals = list(map(int, data[0].split()))\n",
    "        meta = Meta(os.path.basename(fname).split('.')[0], *vals)\n",
    "        streets = []\n",
    "        for i in range(1, meta.num_streets + 1):\n",
    "            vals = data[i].split()\n",
    "            streets.append(Street(vals[2], int(vals[3]), int(vals[0]), int(vals[1])))\n",
    "        cars = []\n",
    "        for i in range(meta.num_streets + 1, meta.num_streets + meta.num_cars + 1):\n",
    "            vals = data[i].split(maxsplit=1)\n",
    "            cars.append(Car(int(vals[0]), vals[1].split()))\n",
    "\n",
    "        return meta, streets, cars\n",
    "\n",
    "def format_output(sol):\n",
    "    result = []\n",
    "    result.append(f\"{sum(s.num_streets > 0 for s in sol)}\")\n",
    "    for s in sol:\n",
    "        if s.num_streets > 0:\n",
    "            result.append(f\"{s.id}\")\n",
    "            result.append(f\"{s.num_streets}\")\n",
    "            for ss in s.street_schedules:\n",
    "                result.append(f\"{ss.name} {ss.t}\")\n",
    "    return result"
   ]
  },
  {
   "cell_type": "markdown",
   "metadata": {},
   "source": [
    "Scoring function"
   ]
  },
  {
   "cell_type": "code",
   "execution_count": 6,
   "metadata": {},
   "outputs": [],
   "source": [
    "def simulate(sol, meta, streets, orig_cars):\n",
    "    cars = deepcopy(orig_cars)\n",
    "    street_to_length = {s.name: s.length for s in streets}\n",
    "    intersection_queues = {}\n",
    "    for s in streets:\n",
    "        intersection_queues[s.name] = []\n",
    "    for c in cars:\n",
    "        intersection_queues[c.streets.pop(0)].append(c)\n",
    "    driving_queue = []\n",
    "\n",
    "    t = 0\n",
    "    score = 0\n",
    "    while t <= meta.duration:\n",
    "        # go through driving queue and put cars back to intersections\n",
    "        driving_queue = sorted(driving_queue, key=itemgetter(1))\n",
    "        while driving_queue and driving_queue[0][1] == t:\n",
    "            c, _ = driving_queue.pop(0)\n",
    "            if len(c.streets) > 1:\n",
    "                intersection_queues[c.streets.pop(0)].append(c)\n",
    "            else:\n",
    "                # car is done\n",
    "                score += meta.bonus + (meta.duration - t)\n",
    "        is_green = compute_is_green(sol, t)\n",
    "        # Go through intersections and move car if light is green\n",
    "        for street_name, inters_q in intersection_queues.items():\n",
    "            if inters_q and street_name in is_green:\n",
    "                c = inters_q.pop(0)\n",
    "                driving_queue.append((c, t + street_to_length[c.streets[0]]))\n",
    "        t += 1\n",
    "        \n",
    "    return intersection_queues, driving_queue, score"
   ]
  },
  {
   "cell_type": "code",
   "execution_count": 7,
   "metadata": {},
   "outputs": [],
   "source": [
    "def score(parsed_input, sol):\n",
    "    meta, streets, cars = parsed_input\n",
    "    _, _, s = simulate(sol, meta, streets, cars)\n",
    "    return s"
   ]
  },
  {
   "cell_type": "markdown",
   "metadata": {},
   "source": [
    "Compute solution here. Solution runner only executes `compute`."
   ]
  },
  {
   "cell_type": "code",
   "execution_count": 8,
   "metadata": {},
   "outputs": [],
   "source": [
    "def compute_is_green(sol, t):\n",
    "    all_totals = [sum(ss.t for ss in s.street_schedules) for s in sol]\n",
    "    is_green = set()\n",
    "    for s, total in zip(sol, all_totals):\n",
    "        t_mod = t % total\n",
    "        i = 0\n",
    "        while s.street_schedules[i].t <= t_mod:\n",
    "            t_mod -= s.street_schedules[i].t\n",
    "            i += 1\n",
    "        is_green.add(s.street_schedules[i].name)\n",
    "    return is_green"
   ]
  },
  {
   "cell_type": "code",
   "execution_count": 9,
   "metadata": {},
   "outputs": [],
   "source": [
    "def compute_baseline(parsed_input):\n",
    "    # every traffic light is green for one second\n",
    "    meta, streets, cars = parsed_input\n",
    "    schedule = []\n",
    "    for inters_id in range(meta.num_inters):\n",
    "        filtered_streets = [s for s in streets if s.e == inters_id]\n",
    "        ss = []\n",
    "        for s in filtered_streets:\n",
    "            ss.append(StreetSchedule(s.name, 1))\n",
    "        schedule.append(Schedule(inters_id, len(ss), ss))\n",
    "    return schedule\n",
    "\n",
    "def compute_greedy(parsed_input):\n",
    "    # every traffic light is green for one second\n",
    "    # ignore streets where noone drives\n",
    "    meta, streets, cars = parsed_input\n",
    "    street_stats = Counter([s for c in cars for s in c.streets])\n",
    "    schedule = []\n",
    "    for inters_id in range(meta.num_inters):\n",
    "        filtered_streets = [s for s in streets if (s.e == inters_id) and (s.name in street_stats)]\n",
    "        ss = []\n",
    "        for s in filtered_streets:\n",
    "            ss.append(StreetSchedule(s.name, 1))\n",
    "        if ss:\n",
    "            schedule.append(Schedule(inters_id, len(ss), ss))\n",
    "    return schedule\n",
    "\n",
    "def enhance_start_streets(cars, sol, adjust_timing=True, adjust_factor=2):\n",
    "    # reorder street schedules so start streets are green first\n",
    "    start_streets = Counter([c.streets[0] for c in cars])\n",
    "    for s in sol:\n",
    "        for sn in sorted(start_streets, key=start_streets.get):\n",
    "            ss_idx = -1\n",
    "            for i, ss in enumerate(s.street_schedules):\n",
    "                if ss.name == sn:\n",
    "                    ss_idx = i\n",
    "            if ss_idx != -1:\n",
    "                s.street_schedules.insert(0, s.street_schedules.pop(ss_idx))\n",
    "                if adjust_timing:\n",
    "                    s.street_schedules[0] = StreetSchedule(sn, max(1, start_streets[sn] // adjust_factor))\n",
    "\n",
    "def adjust_inters_timings(cars, sol, budget_factor=1.5):\n",
    "    # give more green time to busy streets\n",
    "    street_stats = Counter([s for c in cars for s in c.streets])\n",
    "    for s in sol:\n",
    "        sum_inters_count = sum(street_stats[ss.name] for ss in s.street_schedules)\n",
    "        budget_to_dist = math.ceil(s.num_streets * budget_factor)\n",
    "        for i, ss in enumerate(s.street_schedules):\n",
    "            new_t = max(1, math.floor(street_stats[ss.name] / sum_inters_count * budget_to_dist))\n",
    "            s.street_schedules[i] = StreetSchedule(ss.name, new_t)\n",
    "                    \n",
    "def compute_greedy_tune_start_street(parsed_input):\n",
    "    # ignore streets where noone drives\n",
    "    # set first traffic lights so that every car starts driving immediately\n",
    "    PARAM_LOOKUP = {'adjust_factor': {'d': 1}}\n",
    "    meta, streets, cars = parsed_input\n",
    "    sol = compute_greedy(parsed_input)\n",
    "    enhance_start_streets(cars, sol, adjust_factor=PARAM_LOOKUP['adjust_factor'].get(meta.file_name, 2))\n",
    "    return sol\n",
    "\n",
    "def compute_greedy_adjust_timings(parsed_input):\n",
    "    # ignore streets where noone drives\n",
    "    # adjust intersection schedules so busy traffic lights are given more green time\n",
    "    meta, streets, cars = parsed_input\n",
    "    sol = compute_greedy(parsed_input)\n",
    "    adjust_inters_timings(cars, sol)\n",
    "    return sol\n",
    "\n",
    "def compute_greedy_adjust_timings_tune_start_street(parsed_input):\n",
    "    # ignore streets where noone drives\n",
    "    # adjust intersection schedules so busy traffic lights are given more green time\n",
    "    # reorder schedules for better starts\n",
    "    PARAM_LOOKUP = {'budget_factor': {'f': 3.25, 'e': 1.5, 'c': 1.25}}\n",
    "    meta, streets, cars = parsed_input\n",
    "    sol = compute_greedy(parsed_input)\n",
    "    adjust_inters_timings(cars, sol, budget_factor=PARAM_LOOKUP['budget_factor'].get(meta.file_name, 1.5))\n",
    "    enhance_start_streets(cars, sol, adjust_timing=False)\n",
    "    return sol\n",
    "\n",
    "def compute(parsed_input):\n",
    "    FUNC_LOOKUP = {\n",
    "        'a': compute_greedy_tune_start_street,\n",
    "        'b': compute_greedy_tune_start_street,\n",
    "        'c': compute_greedy_adjust_timings_tune_start_street,\n",
    "        'd': compute_greedy_tune_start_street,\n",
    "        'e': compute_greedy_adjust_timings_tune_start_street,\n",
    "        'f': compute_greedy_adjust_timings_tune_start_street\n",
    "    }\n",
    "    meta, _, _ = parsed_input\n",
    "    sol = FUNC_LOOKUP[meta.file_name](parsed_input)\n",
    "    return sol"
   ]
  },
  {
   "cell_type": "markdown",
   "metadata": {},
   "source": [
    "Run"
   ]
  },
  {
   "cell_type": "code",
   "execution_count": 10,
   "metadata": {
    "tags": []
   },
   "outputs": [
    {
     "name": "stdout",
     "output_type": "stream",
     "text": [
      "['a.txt', 'b.txt', 'c.txt', 'd.txt', 'e.txt', 'f.txt']\n",
      "a.txt: \t\t2,002\n",
      "e.txt: \t\t729,272\n",
      "f.txt: \t\t1,371,587\n",
      "b.txt: \t\t4,566,896\n",
      "c.txt: \t\t1,300,791\n",
      "d.txt: \t\t1,592,534\n",
      "------------------------------------\n",
      "Total: \t\t9,563,082\n"
     ]
    }
   ],
   "source": [
    "s = new_sol()"
   ]
  },
  {
   "cell_type": "markdown",
   "metadata": {},
   "source": [
    "---"
   ]
  },
  {
   "cell_type": "markdown",
   "metadata": {},
   "source": [
    "### Example"
   ]
  },
  {
   "cell_type": "code",
   "execution_count": 11,
   "metadata": {},
   "outputs": [
    {
     "data": {
      "text/plain": [
       "(Meta(file_name='a', duration=6, num_inters=4, num_streets=5, num_cars=2, bonus=1000),\n",
       " [Street(name='rue-de-londres', length=1, b=2, e=0),\n",
       "  Street(name='rue-d-amsterdam', length=1, b=0, e=1),\n",
       "  Street(name='rue-d-athenes', length=1, b=3, e=1),\n",
       "  Street(name='rue-de-rome', length=2, b=2, e=3),\n",
       "  Street(name='rue-de-moscou', length=3, b=1, e=2)],\n",
       " [Car(num_streets=4, streets=['rue-de-londres', 'rue-d-amsterdam', 'rue-de-moscou', 'rue-de-rome']),\n",
       "  Car(num_streets=3, streets=['rue-d-athenes', 'rue-de-moscou', 'rue-de-londres'])])"
      ]
     },
     "execution_count": 11,
     "metadata": {},
     "output_type": "execute_result"
    }
   ],
   "source": [
    "f = os.path.join(INPUT_PATH, 'a.txt')\n",
    "data = open(f).read().splitlines()\n",
    "data\n",
    "parsed_input = parse_input(f)\n",
    "meta, streets, cars = parsed_input\n",
    "meta, streets, cars;\n",
    "meta, streets, cars"
   ]
  },
  {
   "cell_type": "code",
   "execution_count": 12,
   "metadata": {},
   "outputs": [
    {
     "data": {
      "text/plain": [
       "[Schedule(id=0, num_streets=1, street_schedules=[StreetSchedule(name='rue-de-londres', t=1)]),\n",
       " Schedule(id=1, num_streets=2, street_schedules=[StreetSchedule(name='rue-d-athenes', t=1), StreetSchedule(name='rue-d-amsterdam', t=1)]),\n",
       " Schedule(id=2, num_streets=1, street_schedules=[StreetSchedule(name='rue-de-moscou', t=1)]),\n",
       " Schedule(id=3, num_streets=1, street_schedules=[StreetSchedule(name='rue-de-rome', t=1)])]"
      ]
     },
     "execution_count": 12,
     "metadata": {},
     "output_type": "execute_result"
    }
   ],
   "source": [
    "sol = compute_greedy_tune_start_street(parsed_input)\n",
    "sol"
   ]
  },
  {
   "cell_type": "code",
   "execution_count": 13,
   "metadata": {},
   "outputs": [
    {
     "data": {
      "text/plain": [
       "2002"
      ]
     },
     "execution_count": 13,
     "metadata": {},
     "output_type": "execute_result"
    }
   ],
   "source": [
    "iq, dq, s = simulate(sol, meta, streets, deepcopy(cars))\n",
    "s"
   ]
  }
 ],
 "metadata": {
  "@webio": {
   "lastCommId": null,
   "lastKernelId": null
  },
  "kernelspec": {
   "display_name": "Python 3",
   "language": "python",
   "name": "python3"
  },
  "language_info": {
   "codemirror_mode": {
    "name": "ipython",
    "version": 3
   },
   "file_extension": ".py",
   "mimetype": "text/x-python",
   "name": "python",
   "nbconvert_exporter": "python",
   "pygments_lexer": "ipython3",
   "version": "3.9.1"
  }
 },
 "nbformat": 4,
 "nbformat_minor": 4
}
